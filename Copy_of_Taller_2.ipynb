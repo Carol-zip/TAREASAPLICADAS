{
  "nbformat": 4,
  "nbformat_minor": 0,
  "metadata": {
    "colab": {
      "provenance": [],
      "authorship_tag": "ABX9TyPqXojdAqS6TaqwZ2rBhcZE",
      "include_colab_link": true
    },
    "kernelspec": {
      "name": "python3",
      "display_name": "Python 3"
    },
    "language_info": {
      "name": "python"
    }
  },
  "cells": [
    {
      "cell_type": "markdown",
      "metadata": {
        "id": "view-in-github",
        "colab_type": "text"
      },
      "source": [
        "<a href=\"https://colab.research.google.com/github/Carol-zip/TAREASAPLICADAS/blob/main/Copy_of_Taller_2.ipynb\" target=\"_parent\"><img src=\"https://colab.research.google.com/assets/colab-badge.svg\" alt=\"Open In Colab\"/></a>"
      ]
    },
    {
      "cell_type": "markdown",
      "source": [
        "##Integrantes##\n",
        "\n",
        "**Carol Daniela Muñoz Diaz**\n",
        "\n",
        "**Stefania Coy Gomez**\n",
        "\n",
        "**Angie Michell Arevalo Sanchez**"
      ],
      "metadata": {
        "id": "Z67b1hfEZ0lg"
      }
    },
    {
      "cell_type": "code",
      "execution_count": null,
      "metadata": {
        "id": "HldyB3HwJw7R"
      },
      "outputs": [],
      "source": [
        "import numpy as np"
      ]
    },
    {
      "cell_type": "code",
      "source": [
        "#Punto 1\n",
        "def es_primo(n):\n",
        "  if n < 2:\n",
        "    return False\n",
        "  for i in range(2, int(n**0.5)+1):\n",
        "    if n % i == 0:\n",
        "            return False\n",
        "    return True\n",
        "\n",
        "def filtrar_primos(lista):\n",
        "    return [num for num in lista if es_primo(num)]\n",
        "numeros = list(range(100))\n",
        "primos = filtrar_primos(numeros)\n",
        "print(primos)"
      ],
      "metadata": {
        "colab": {
          "base_uri": "https://localhost:8080/"
        },
        "id": "OhviasSpWdoF",
        "outputId": "8910abd1-e855-405a-8b71-1be57412e051"
      },
      "execution_count": null,
      "outputs": [
        {
          "output_type": "stream",
          "name": "stdout",
          "text": [
            "[5, 7, 9, 11, 13, 15, 17, 19]\n"
          ]
        }
      ]
    },
    {
      "cell_type": "code",
      "source": [
        "#Punto 2\n",
        "def elementos_comunes(lista1, lista2):\n",
        "    return [num for num in lista1 if num in lista2]\n",
        "\n",
        "lista_a = list(range(10))\n",
        "lista_b = list (range(20))\n",
        "resultado = elementos_comunes(lista_a, lista_b)\n",
        "print(resultado)"
      ],
      "metadata": {
        "colab": {
          "base_uri": "https://localhost:8080/"
        },
        "id": "-tpsvx9LXSVl",
        "outputId": "8db4f061-e158-4b0e-8ea3-6201e92556e6"
      },
      "execution_count": null,
      "outputs": [
        {
          "output_type": "stream",
          "name": "stdout",
          "text": [
            "[0, 1, 2, 3, 4, 5, 6, 7, 8, 9]\n"
          ]
        }
      ]
    },
    {
      "cell_type": "code",
      "source": [
        "#Punto 3\n",
        "def lista_a_matriz(lista):\n",
        "  if type(lista) is list:\n",
        "    n = (len(lista))**(1/2)\n",
        "    nr = round(n)\n",
        "    if nr**2 == n**2:\n",
        "      matrix = []\n",
        "      for j in range(0,nr):\n",
        "        temp = lista[nr*j:nr*(j+1)]\n",
        "        matrix = matrix + [temp]\n",
        "      print(matrix,\"\\n\")\n",
        "    else:\n",
        "      print(\"La lista no corresponde a una matriz cuadrada\\n\")\n",
        "  else:\n",
        "    print(\"La entrada no es una lista\\n\")\n",
        "\n",
        "lista_a_matriz(\"xd\")\n",
        "lista_a_matriz(2)\n",
        "lista_a_matriz(\"hp\")\n",
        "lista_a_matriz([1,2,3,4,5,6,7,8,9])\n",
        "lista_a_matriz([1,2,3])\n",
        "lista_a_matriz([1,2])"
      ],
      "metadata": {
        "id": "uLWW2cgJzcFS",
        "colab": {
          "base_uri": "https://localhost:8080/"
        },
        "outputId": "42171ce1-3dfe-4007-a45f-5fc96fdc29d2"
      },
      "execution_count": null,
      "outputs": [
        {
          "output_type": "stream",
          "name": "stdout",
          "text": [
            "La entrada no es una lista\n",
            "\n",
            "La entrada no es una lista\n",
            "\n",
            "La entrada no es una lista\n",
            "\n",
            "[[1, 2, 3], [4, 5, 6], [7, 8, 9]] \n",
            "\n",
            "La lista no corresponde a una matriz cuadrada\n",
            "\n",
            "La lista no corresponde a una matriz cuadrada\n",
            "\n"
          ]
        }
      ]
    },
    {
      "cell_type": "code",
      "source": [
        "#Punto 4\n",
        "def calcular_estadisticas(numeros): #El \"def\" se usa para definir una funcion y poderla llamar en otro momento\n",
        "    #el calcular_estadistica es el nombre para la funcion\n",
        "    #y el \"numeros\" entre parentesis son sus parametros que son para que la funcion pueda funcionar\n",
        "\n",
        "    media = sum(numeros) / len(numeros) #el \"sum(numeros)\" es para sumar los numeros de la lista cuyo nombre es \"numeros\"\n",
        "    #y el \"len(numeros)\" es para mostrar la cantidad de datos totales\n",
        "\n",
        "    cantidad_total_de_numeros = len(numeros)\n",
        "    mitad = cantidad_total_de_numeros // 2 #el \"//\" es para dividir y que no de decimales\n",
        "    #en el caso de decimales, redondea hacia bajo si es impar\n",
        "\n",
        "    for i in range(cantidad_total_de_numeros):\n",
        "        for j in range(cantidad_total_de_numeros - 1 - i):\n",
        "            if numeros[j] > numeros[j + 1]:\n",
        "                numeros[j], numeros[j + 1] = numeros[j + 1], numeros[j]\n",
        "  #Metodo burbuja\n",
        "\n",
        "    if cantidad_total_de_numeros % 2 == 0:\n",
        "        mediana = (numeros[mitad - 1] + numeros[mitad]) / 2\n",
        "    else:\n",
        "        mediana = numeros[mitad]\n",
        "\n",
        "    frecuencia = {}\n",
        "    for num in numeros:\n",
        "        frecuencia[num] = frecuencia.get(num, 0) + 1\n",
        "\n",
        "    max_frecuencia = max(frecuencia.values())\n",
        "    moda = [num for num, freq in frecuencia.items() if freq == max_frecuencia]\n",
        "\n",
        "    return {\n",
        "        \"Media\": media,\n",
        "        \"Mediana\": mediana,\n",
        "        \"Moda\": moda\n",
        "    }\n",
        "\n",
        "# Ejemplo de uso\n",
        "numeros = [1, 2, 2, 3, 4, 4, 5]\n",
        "resultado = calcular_estadisticas(numeros)\n",
        "print(resultado)"
      ],
      "metadata": {
        "id": "JWjY9Cf9vGDC"
      },
      "execution_count": null,
      "outputs": []
    },
    {
      "cell_type": "code",
      "source": [
        "#Punto 5\n",
        "#Definir funcion\n",
        "def pago(precios,cantidades):\n",
        "  total = 0\n",
        "  if len(precios) == len(cantidades):\n",
        "    for i in range(0,len(precios)):\n",
        "      costo = precios[i] * cantidades[i]\n",
        "      total = total + costo\n",
        "    if total > 100:\n",
        "      total = total - (total * 0.1)\n",
        "  else:\n",
        "    print(\"La lista de precios y cantidades no son iguales\")\n",
        "  print(total)\n",
        "pago([1,3,5],[2,3,100])"
      ],
      "metadata": {
        "id": "BhAhBwTTvIYX",
        "colab": {
          "base_uri": "https://localhost:8080/"
        },
        "outputId": "e6d669c6-4ffc-4f9f-bb19-d8f51f7939f7"
      },
      "execution_count": null,
      "outputs": [
        {
          "output_type": "stream",
          "name": "stdout",
          "text": [
            "459.9\n"
          ]
        }
      ]
    },
    {
      "cell_type": "code",
      "source": [
        "#Punto 6\n",
        "def actualizar_inventario(inventario, vendidos):\n",
        "\n",
        "    inventario_actualizado = inventario.copy()\n",
        "\n",
        "    for producto in vendidos:\n",
        "        if producto in inventario_actualizado:\n",
        "            inventario_actualizado.remove(producto)\n",
        "\n",
        "    return inventario_actualizado\n",
        "\n",
        "# Ejemplo de uso\n",
        "inventario = [\"manzana\", \"banana\", \"pera\", \"naranja\", \"manzana\"]\n",
        "vendidos = [\"manzana\", \"pera\"]\n",
        "\n",
        "resultado = actualizar_inventario(inventario, vendidos)\n",
        "print(resultado)  # Salida esperada: ['banana', 'naranja', 'manzana']"
      ],
      "metadata": {
        "id": "i_NdK3H3vKMa"
      },
      "execution_count": null,
      "outputs": []
    },
    {
      "cell_type": "code",
      "source": [
        "#Punto 7\n",
        "def cat_temperatura(temperatura):\n",
        "  caso1 = caso2 = caso3 = 0\n",
        "  for i in range(0,len(temperatura)):\n",
        "    if temperatura[i] > 30:\n",
        "      caso1 = caso1 + 1\n",
        "    elif 20 <= temperatura[i] <= 30:\n",
        "      caso2 = caso2 + 1\n",
        "    elif temperatura[i] < 20:\n",
        "      caso3 = caso3 + 1\n",
        "  print(\"La temperatura supero los 30° Celsius: \",caso1,\" veces\")\n",
        "  print(\"La temperatura estuvo entre 20° y 30° Celsius: \",caso2,\" veces\")\n",
        "  print(\"La temperatura estuvo por debajo de 20° Celsius: \",caso3,\" veces\")\n",
        "\n",
        "cat_temperatura([20,45,70,100,-100,200,3,23,34])\n"
      ],
      "metadata": {
        "id": "hLahPcXAvLkX",
        "colab": {
          "base_uri": "https://localhost:8080/"
        },
        "outputId": "5872f194-18fb-4968-9150-0f7fb4735bd1"
      },
      "execution_count": null,
      "outputs": [
        {
          "output_type": "stream",
          "name": "stdout",
          "text": [
            "La temperatura supero los 30° Celsius:  5  veces\n",
            "La temperatura estuvo entre 20° y 30° Celsius:  2  veces\n",
            "La temperatura estuvo por debajo de 20° Celsius:  2  veces\n"
          ]
        }
      ]
    },
    {
      "cell_type": "code",
      "source": [
        "#Punto 8.1\n",
        "def consumo(cantidad,calorias):\n",
        "  if len(cantidad) == len(calorias):\n",
        "    total = 0\n",
        "    for i in range(0,len(cantidad)):\n",
        "      total = total + (cantidad[i] * calorias[i])\n",
        "    if total > 2000:\n",
        "      print(\"Se ha superado las 2000 calorias diarias\")\n",
        "    else:\n",
        "      print(\"No se ha superado las 2000 calorias diarias\")\n",
        "  else:\n",
        "    print(\"La lista de alimentos consumidos no es igual que la lista de calorias\")\n",
        "\n",
        "consumo([1,2,3],[30,50,300])"
      ],
      "metadata": {
        "id": "N7BJeOFdvNNN",
        "colab": {
          "base_uri": "https://localhost:8080/"
        },
        "outputId": "e78df1df-f694-45fa-9b93-3b722762691a"
      },
      "execution_count": null,
      "outputs": [
        {
          "output_type": "stream",
          "name": "stdout",
          "text": [
            "No se ha superado las 2000 calorias diarias\n"
          ]
        }
      ]
    },
    {
      "cell_type": "code",
      "source": [
        "#Punto 8.2\n",
        "def calcular_calorias(alimentos, calorias):\n",
        "    total_calorias = sum(calorias)\n",
        "\n",
        "    mensaje = (f\"Calorías consumidas: {total_calorias} kcal.\")\n",
        "    if total_calorias > 2000:\n",
        "        mensaje += \" Has superado el límite diario recomendado de 2000 kcal.\"\n",
        "\n",
        "    return mensaje\n",
        "\n",
        "# Ejemplo de uso\n",
        "alimentos = [\"Manzana\", \"Pan\", \"Pollo\", \"Pasta\", \"Helado\"]\n",
        "calorias = [95, 200, 400, 600, 350]\n",
        "\n",
        "resultado = calcular_calorias(alimentos, calorias)\n",
        "print(resultado)"
      ],
      "metadata": {
        "id": "2NiouwBTgoq2"
      },
      "execution_count": null,
      "outputs": []
    },
    {
      "cell_type": "code",
      "source": [
        "#Punto 9\n",
        "import numpy as np\n",
        "def promedio():\n",
        "    ventas_mensuales = []\n",
        "    while True:\n",
        "        ventas = int(input(\"Digite la venta (0 para finalizar): \"))\n",
        "        if ventas == 0:\n",
        "            break\n",
        "        ventas_mensuales.append(ventas)\n",
        "    return ventas_mensuales\n",
        "\n",
        "ventas_mensuales = promedio()\n",
        "\n",
        "venta_promedio = np.mean(ventas_mensuales)\n",
        "venta_mayor_alpromedio = [i for i in ventas_mensuales if i > venta_promedio]\n",
        "\n",
        "print(f\"El promedio de ventas mensuales es: {venta_promedio:.2f}\")\n",
        "print(f\"Ventas mayores al promedio: {venta_mayor_alpromedio}\")"
      ],
      "metadata": {
        "colab": {
          "base_uri": "https://localhost:8080/"
        },
        "id": "zJai8UM2YLmV",
        "outputId": "8d8c67f8-8559-438b-a5e5-0b816a187d99"
      },
      "execution_count": 5,
      "outputs": [
        {
          "output_type": "stream",
          "name": "stdout",
          "text": [
            "Digite la venta (0 para finalizar): 4\n",
            "Digite la venta (0 para finalizar): 5\n",
            "Digite la venta (0 para finalizar): 0\n",
            "El promedio de ventas mensuales es: 4.50\n",
            "Ventas mayores al promedio: [5]\n"
          ]
        }
      ]
    },
    {
      "cell_type": "code",
      "source": [
        "#Punto 10\n",
        "\n",
        "def descuento(total):\n",
        "  if 50 <= total  <= 100:\n",
        "    total = total - (total*0.05)\n",
        "  elif 100 < total < 200:\n",
        "    total = total - (total*0.1)\n",
        "  elif total >= 200:\n",
        "    total = total - (total*0.15)\n",
        "  print(\"Aplicando el descuento, el total es:\",total)\n",
        "\n",
        "descuento(145.3)"
      ],
      "metadata": {
        "id": "eyBXNHdQvQCo",
        "colab": {
          "base_uri": "https://localhost:8080/"
        },
        "outputId": "6853c295-886d-456b-bfa8-5d380ef66b12"
      },
      "execution_count": null,
      "outputs": [
        {
          "output_type": "stream",
          "name": "stdout",
          "text": [
            "Aplicando el descuento, el total es: 130.77\n",
            "130.77\n"
          ]
        }
      ]
    },
    {
      "cell_type": "code",
      "source": [
        "#Punto 11\n",
        "def pacientes_prioritarios(nombres, edades):\n",
        "    \"\"\"\n",
        "    Recibe una lista de nombres y una lista de edades de pacientes.\n",
        "    Devuelve una lista de pacientes mayores de 60 años con atención prioritaria.\n",
        "    \"\"\"\n",
        "    prioritarios = [nombres[i] for i in range(len(nombres)) if edades[i] > 60]\n",
        "    return prioritarios\n",
        "\n",
        "# Ejemplo de uso\n",
        "nombres_pacientes = [\"Juan\", \"María\", \"Carlos\", \"Ana\", \"Luis\"]\n",
        "edades_pacientes = [45, 62, 70, 30, 80]\n",
        "\n",
        "resultado = pacientes_prioritarios(nombres_pacientes, edades_pacientes)\n",
        "print(\"Pacientes con atención prioritaria:\", resultado)"
      ],
      "metadata": {
        "id": "ZUO58duXvRay"
      },
      "execution_count": null,
      "outputs": []
    },
    {
      "cell_type": "code",
      "source": [
        "#Punto 12\n",
        "def tgastos(tipo,dinero):\n",
        "  total = 0\n",
        "  for i in range(0,len(dinero)):\n",
        "    total = dinero[i] + total\n",
        "  maximo = max(dinero)\n",
        "  j = dinero.index(maximo)\n",
        "  categoria = tipo[j]\n",
        "  #print(\"El gasto total es:\",total,\"\\nEl gasto mas grande fue:\",categoria,\" con un valor de:\",maximo)\n",
        "  print(\"El gasto total es:\",total)\n",
        "  print(\"El gasto mas grande fue:\",categoria)\n",
        "  print(\"con un valor de:\",maximo)\n",
        "tgastos([\"alquiler\",\"mercado\",\"seguro\",\"netflix\"],[100,200,300,400])"
      ],
      "metadata": {
        "id": "85DITSA6vSpH",
        "colab": {
          "base_uri": "https://localhost:8080/"
        },
        "outputId": "7e332ad6-4f04-4231-d05e-08830c21d3c4"
      },
      "execution_count": null,
      "outputs": [
        {
          "output_type": "stream",
          "name": "stdout",
          "text": [
            "El gasto total es: 1000\n",
            "El gasto mas grande fue: netflix\n",
            "con un valor de: 400\n"
          ]
        }
      ]
    },
    {
      "cell_type": "code",
      "source": [
        "#Punto 13\n",
        "def no_asistieron(registrados, asistentes):\n",
        "    faltantes = []\n",
        "\n",
        "    for registrado in registrados:\n",
        "        encontrado = False\n",
        "        for asistente in asistentes:\n",
        "            if registrado == asistente:\n",
        "                encontrado = True\n",
        "                break\n",
        "        if not encontrado:\n",
        "            faltantes.append(registrado)\n",
        "\n",
        "    return faltantes\n",
        "\n",
        "# Ejemplo de uso\n",
        "registrados = [\"Ana\", \"Juan\", \"Pedro\", \"Luis\", \"Maria\"]\n",
        "asistentes = [\"Ana\", \"Pedro\", \"Maria\"]\n",
        "\n",
        "faltantes = no_asistieron(registrados, asistentes)\n",
        "print(f\"Personas que no asistieron: {faltantes}\")"
      ],
      "metadata": {
        "id": "9uaytHhIvUPY"
      },
      "execution_count": null,
      "outputs": []
    },
    {
      "cell_type": "code",
      "source": [
        "#Punto 14\n",
        "\n",
        "def Promedio_semanal():\n",
        "  dias = [\"Lunes\",\"Martes\",\"Miercoles\",\"Jueves\",\"Viernes\",\"Sabado\",\"Domingo\"]\n",
        "  suma = 0\n",
        "\n",
        "  for i in dias:\n",
        "    while True:\n",
        "      try:\n",
        "        minutos = int(input(f\"Cuantos minutos de ejercicio hizo en {i}: \"))\n",
        "        if minutos >= 0:\n",
        "          suma += minutos\n",
        "          break\n",
        "        else:\n",
        "          print(\"Por favor digite un valor por encima de 0\")\n",
        "      except ValueError:\n",
        "        print(\"Por favor digite un valor numerico\")\n",
        "  promedio = suma/len(dias)\n",
        "\n",
        "  if promedio > 60:\n",
        "    print(f\"El promedio de minutos de ejercicio por dia fue de {promedio} horas, excelente estas en forma\")\n",
        "  elif promedio >= 30:\n",
        "    print(f\"El promedio de minutos de ejercicio por dia fue de {promedio}, buen trabajo, pero puedes mejorar\")\n",
        "  else:\n",
        "    print(f\"El promedio de minutos de ejercicio por dia fue de {promedio} minutos, debes hacer mas ejercicio\")\n",
        "\n",
        "Promedio_semanal()"
      ],
      "metadata": {
        "id": "iDi8v1W9vV9b",
        "colab": {
          "base_uri": "https://localhost:8080/"
        },
        "outputId": "d3bf86a7-e095-45fb-abe7-833b93c70133"
      },
      "execution_count": 3,
      "outputs": [
        {
          "output_type": "stream",
          "name": "stdout",
          "text": [
            "Cuantos minutos de ejercicio hizo en Lunes: 30\n",
            "Cuantos minutos de ejercicio hizo en Martes: 15\n",
            "Cuantos minutos de ejercicio hizo en Miercoles: 45\n",
            "Cuantos minutos de ejercicio hizo en Jueves: 15\n",
            "Cuantos minutos de ejercicio hizo en Viernes: 30\n",
            "Cuantos minutos de ejercicio hizo en Sabado: 35\n",
            "Cuantos minutos de ejercicio hizo en Domingo: 15\n",
            "El promedio de minutos de ejercicio por dia fue de 26.428571428571427 minutos, debes hacer mas ejercicio\n"
          ]
        }
      ]
    }
  ]
}