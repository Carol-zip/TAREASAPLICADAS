{
  "nbformat": 4,
  "nbformat_minor": 0,
  "metadata": {
    "colab": {
      "provenance": [],
      "authorship_tag": "ABX9TyORihteHtyAxLp2SBA/9Vwi",
      "include_colab_link": true
    },
    "kernelspec": {
      "name": "python3",
      "display_name": "Python 3"
    },
    "language_info": {
      "name": "python"
    }
  },
  "cells": [
    {
      "cell_type": "markdown",
      "metadata": {
        "id": "view-in-github",
        "colab_type": "text"
      },
      "source": [
        "<a href=\"https://colab.research.google.com/github/Carol-zip/TAREASAPLICADAS/blob/main/TALLER_4.ipynb\" target=\"_parent\"><img src=\"https://colab.research.google.com/assets/colab-badge.svg\" alt=\"Open In Colab\"/></a>"
      ]
    },
    {
      "cell_type": "markdown",
      "source": [
        "##Integrantes\n",
        "\n",
        "**Stefania Coy Gomez**\n",
        "\n",
        "**Angie Michell Arevalo Sanchez**\n",
        "\n",
        "**Carol Daniela Muñoz Diaz**\n"
      ],
      "metadata": {
        "id": "1XmtN3nLbq6a"
      }
    },
    {
      "cell_type": "markdown",
      "source": [
        "##***Problemas 1.2***"
      ],
      "metadata": {
        "id": "XKl_DuodfQfg"
      }
    },
    {
      "cell_type": "markdown",
      "source": [
        "###Punto 1:\n",
        "ᯓ★ Encontrar una expresión general para el termino \"n-ésimo\" de una secuencia que coincida con los primeros cuatro términos.\n",
        "\n",
        "<font color=\"ADFF2F\">**a) $ 1, \\frac{1}{3}, \\frac{1}{9}, \\frac{1}{27}... $** </font>\n",
        "\n",
        "*R//* Sucesión geométrica, Cada termino se esta dividiendo, con un resultado constante\n",
        "\n",
        "*   Primer término 1 y razón $\\frac{1}{3}$\n",
        "\n",
        "*Formula:*  $a_n = a_1(r^{n-1})$\n",
        "\n",
        "$a_1 = 1$\n",
        "\n",
        "\n",
        "$ r = \\frac{1}{3}$\n",
        "\n",
        "*Formula aplicada:* $a_n = 1(\\frac{1}{3}^{n-1})$\n",
        "\n",
        "$a_1 = 1(\\frac{1}{3}^{1-1}) $\n",
        "\n",
        "$a_1 = 1(\\frac{1}{3}^{0}) $\n",
        "\n",
        "$a_1 = 1(1) $\n",
        "\n",
        "$a_1 = 1$\n",
        "\n",
        "<font color=\"ADFF2F\">**b) $ 1, \\frac{1}{2}, \\frac{1}{3}, \\frac{1}{4} $**</font>\n",
        "\n",
        "*R//*\n",
        "\n",
        "*   El númerador es siempre 1\n",
        "*   El denominador es n\n",
        "\n",
        "*Formula aplicada:*  $a_n = \\frac{1}{n}$\n",
        "\n",
        "<font color=\"ADFF2F\">**c) $ 1, \\frac{3}{2}, \\frac{5}{3}, \\frac{7}{4} $**</font>\n",
        "\n",
        "*R//*\n",
        "\n",
        "*   El númerador, sucesión aritmética que suma 2\n",
        "\n",
        "$a_n = a_1 + (n - 1)d$\n",
        "\n",
        "$a_n = 1 + (n - 1)2$\n",
        "\n",
        "$a_n = 1 + 2n -2$\n",
        "\n",
        "$a_n = 2n -2 +1 $\n",
        "\n",
        "$a_n = 2_n - 1 $\n",
        "\n",
        "*   El denominador, sucesión aritmética pero suma 1\n",
        "\n",
        "$a_n = a_1 + (n - 1)d$\n",
        "\n",
        "$a_n = 1 + (n - 1)1$\n",
        "\n",
        "$a_n = n -1 +1 $\n",
        "\n",
        "$a_n = n + 1 $\n",
        "\n",
        "Entonces $a_n= \\frac{2_n - 1}{n + 1}$\n",
        "\n",
        "<font color=\"ADFF2F\">**d) $ -\\frac{1}{3}, \\frac{1}{5}, -\\frac{1}{7}, \\frac{1}{9} $**</font>\n",
        "\n",
        "*R//*\n",
        "\n",
        "\n",
        "\n",
        "*   En el Númerador se presentan los cambios de signo\n",
        "*   Y en el denominador el patrón es de números impares\n",
        "\n",
        "\n",
        "*formula:* $\\frac{(-1)^n}{2n+1}$\n",
        "\n"
      ],
      "metadata": {
        "id": "yMoFnhUuJaEq"
      }
    },
    {
      "cell_type": "markdown",
      "source": [
        "###Punto 2:\n",
        "ᯓ★Afirma si la secuencia converge o diverge.\n",
        "\n",
        "<font color=\"ADFF2F\">**a) $ a_n = \\frac{1}{3^n},  n= 0,1,2,... $** </font>\n",
        "\n",
        "La sucesión Converge:\n",
        "\n",
        "Cuando 𝑛 → $\\infty$\n",
        "\n",
        "$a_n → ∞ $\n",
        "\n",
        "\n",
        "$\\frac{1}{3^n} , n → ∞ , → a_n \\approx 0 $\n",
        "\n",
        "\n",
        "<font color=\"ADFF2F\">**b) $ a_n = π^n,  n= 1,2,3,... $** </font>\n",
        "\n",
        "La sucesión Diverge\n",
        "\n",
        "*   $π^n$ es un exponente que creece infinitamente, porque pi es mayor que 1\n",
        "\n",
        "<font color=\"ADFF2F\">**c) $ b_n = \\frac{3n-1}{2n+6},  n= 1,2,3,... $** </font>\n",
        "\n",
        "La sucesión Converge\n",
        "\n",
        "$\\frac{3n-1}{2n+6} \\cdot \\frac{1/n^1}{1/n^1} \\approx \\frac{3}{2} $\n",
        "\n",
        "<font color=\"ADFF2F\">**d) $ c_n = cos(πn),  n= 0,1,2,... $** </font>\n",
        "\n",
        "La sucesión Diverge\n",
        "\n",
        "Como $cos(\\pi n)$ alterna entre 1 y -1, no se estabiliza en un único valor\n",
        "\n",
        "$π^∞  ≈ ∞$\n",
        "\n",
        "<font color=\"ADFF2F\">**e) $ a_n = \\frac{3n^4-6n^3+1}{5n^3+n^2+2},  n= 1,2,3,... $** </font>\n",
        "\n",
        "La sucesión Converge\n",
        "\n",
        "$\\frac{3n^4-6n^3+1}{13+5n+6n^3} \\cdot \\frac{1/n^4}{1/n^4}  \\approx \\frac{3}{5} $\n",
        "\n",
        "<font color=\"ADFF2F\">**f) $ b_n = \\frac{2n^5-3n^2+23}{7n^5+13n^4-12},  n= 1,2,3,... $** </font>\n",
        "\n",
        "La sucesión Converge\n",
        "\n",
        "$\\frac{2n^5-3n^2+23}{7n^5+13n^4-12} \\cdot \\frac{1/n^5}{1/n^5}  \\approx \\frac{2}{7} $\n",
        "\n",
        "\n",
        "<font color=\"ADFF2F\">**g) $ c_n = \\frac{45-16n^2}{13+5n+6n^3},  n= 1,2,3,... $** </font>\n",
        "\n",
        "La sucesión Converge\n",
        "\n",
        "$\\frac{45-16n^2}{13+5n+6n^3} \\cdot \\frac{1/n^3}{1/n^3}  \\approx 0 $\n",
        "\n",
        "\n",
        "<font color=\"ADFF2F\">**h) $ b_n = \\frac{3n^2+1}{\\sqrt{4n^2+1}},  n= 1,2,3,... $** </font>\n",
        "\n",
        "La sucesión Converge\n",
        "\n",
        "$\\frac{3n^2+1}{\\sqrt{4n^2(1+\\frac{1}{4n^2})}} = \\frac{3n}{\\sqrt{4n^2}} = \\frac{3n}{2n} ≈ \\frac{3}{2}$\n",
        "\n",
        "\n",
        "<font color=\"ADFF2F\">**i) $ a_n = (-2)^{2n+1},  n= 1,2,3,... $** </font>\n",
        "\n",
        "La sucesión Diverge\n",
        "\n",
        "$(-1)^{2n+1} \\cdot (2)^{2n+1} = -(2)^{2n+1} = (2)^{∞} = -∞$\n",
        "\n",
        "Como la base es negativa y el exponente es impar, los valores oscilarán entre positivos y negativos sin tender a un número fijo.\n",
        "\n",
        "<font color=\"ADFF2F\">**j) $ a_n = \\frac{10-16n^3}{1+n^2},  n= 1,2,3,... $** </font>\n",
        "\n",
        "\n",
        "La sucesión Diverge\n",
        "\n",
        "$\\frac{10-16n^3}{1+n^2} \\cdot \\frac{1/n^2}{1/n^2} = \\frac{\\frac{10}{n^2}-{16}{n}}{\\frac{1}{n^2}+1} = \\frac{-16n}{1} ≈ -∞$\n",
        "\n",
        "<font color=\"ADFF2F\">**k) $ a_n = {\\sqrt\\frac{3n^2+n-6}{5n^2+16}},  n= 1,2,3,... $** </font>\n",
        "\n",
        "La sucesión Converge\n",
        "\n",
        "${\\sqrt\\frac{3n^2+n-6}{5n^2+16}} \\cdot \\frac{1/n^1}{1/n^1}$\n",
        "\n",
        "\n",
        "$\\sqrt{\\frac{3n^2+n-6}{5n^2+16} \\cdot \\frac{1/n^2}{1/n^2}} ≈ \\sqrt{\\frac{3}{5}}$\n",
        "\n",
        "<font color=\"ADFF2F\">**l) $ a_n = \\frac{(-1n)^n}{5n},  n= 0,1,2,... $** </font>\n",
        "\n",
        "La sucesión Converge\n",
        "\n",
        "$\\frac{(-1n)^n}{5^n} → \\frac{(-1n)^n}{5^∞} ≈ 0$\n",
        "\n",
        "\n",
        "*   $5^n$ crece exponencialmente y el factor $(-1)^n$ solo altera el signo  \n",
        "\n",
        "\n",
        "\n",
        "\n",
        "\n"
      ],
      "metadata": {
        "id": "LUtJyjD2LIlu"
      }
    },
    {
      "cell_type": "markdown",
      "source": [
        "###Punto 3:\n",
        "ᯓ★ Explicación del Límite $\\lim_{n \\to \\infty} \\frac{\\sin(n)}{n}$\n",
        "\n",
        "**Paso 1: Analizar la desigualdad dada**\n",
        "\n",
        "Nos dan la desigualdad:\n",
        "\n",
        "$$\n",
        "\\frac{1}{n} \\leq \\frac{\\sin(n)}{n} \\leq \\frac{1}{n}\n",
        "$$\n",
        "\n",
        "Para demostrar que esta desigualdad es válida, seguimos los siguientes pasos detalladamente.\n",
        "\n",
        "**Paso 1.1: Propiedad de la función seno**\n",
        "\n",
        "Sabemos que la función seno está acotada para cualquier valor real de $n$:\n",
        "\n",
        "$$\n",
        "-1 \\leq \\sin(n) \\leq 1\n",
        "$$\n",
        "\n",
        "Esto significa que sin importar el valor de $n$, el seno de $n$ nunca tomará valores menores que -1 ni mayores que 1.\n",
        "\n",
        "**Paso 1.2: Dividir la desigualdad por $n$**\n",
        "\n",
        "Queremos transformar la desigualdad anterior para que tenga la forma que nos dieron en el problema.\n",
        "\n",
        "Si tomamos la desigualdad básica de $\\sin(n)$:\n",
        "\n",
        "$$\n",
        "-1 \\leq \\sin(n) \\leq 1\n",
        "$$\n",
        "\n",
        "y dividimos todos los términos por $n$ (suponiendo que $n > 0$), obtenemos:\n",
        "\n",
        "$$\n",
        "\\frac{1}{n} \\leq \\frac{\\sin(n)}{n} \\leq \\frac{1}{n}\n",
        "$$\n",
        "\n",
        "Esta es exactamente la desigualdad que queríamos demostrar.\n",
        "\n",
        "**Paso 1.3: Justificación de la transformación**\n",
        "\n",
        "La razón por la que podemos dividir todos los términos de la desigualdad por $n$ es que $n$ es positivo.\n",
        "\n",
        "Si $n$ fuera negativo, tendríamos que invertir el signo de la desigualdad al dividir, pero en este caso solo nos interesan los valores de $n = 1, 2, 3, \\dots$ (según el enunciado), por lo que la división es válida sin cambios en los signos.\n",
        "\n",
        "**Conclusión del Paso 1**\n",
        "\n",
        "Hemos demostrado que la desigualdad dada es correcta. Esta propiedad será clave en el Paso 2, donde aplicaremos el Teorema del Sandwich para hallar el límite.\n",
        "\n",
        "\n",
        "\n",
        "\n",
        "\n",
        "\n",
        "**Paso 2: Aplicar el Teorema del Sandwich**\n",
        "\n",
        "En este paso, vamos a demostrar el límite de la función:\n",
        "\n",
        "$$\n",
        "\\lim_{n \\to \\infty} \\frac{\\sin(n)}{n}\n",
        "$$\n",
        "\n",
        "utilizando el Teorema del Sandwich (también conocido como Teorema del Atrapamiento).\n",
        "\n",
        "Paso 2.1: Recordar el Teorema del Sandwich\n",
        "\n",
        "El Teorema del Sandwich establece que si una función está atrapada entre dos funciones cuyos límites son iguales, entonces la función intermedia también tendrá ese mismo límite.\n",
        "\n",
        "Es decir, si tenemos tres funciones $g(n)$, $f(n)$ y $h(n)$ tal que:\n",
        "\n",
        "$$\n",
        "g(n) \\leq f(n) \\leq h(n)\n",
        "$$\n",
        "\n",
        "y se cumple que:\n",
        "\n",
        "$$\n",
        "\\lim_{n \\to \\infty} g(n) = \\lim_{n \\to \\infty} h(n) = L\n",
        "$$\n",
        "\n",
        "entonces podemos concluir que:\n",
        "\n",
        "$$\n",
        "\\lim_{n \\to \\infty} f(n) = L\n",
        "$$\n",
        "\n",
        "Paso 2.2: Aplicación a nuestra función\n",
        "\n",
        "De nuestro análisis en el Paso 1, demostramos que:\n",
        "\n",
        "$$\n",
        "- \\frac{1}{n} \\leq \\frac{\\sin(n)}{n} \\leq \\frac{1}{n}\n",
        "$$\n",
        "\n",
        "Identificamos que:\n",
        "$$g(n) = -\\frac{1}{n}$$\n",
        "$$f(n) = \\frac{\\sin(n)}{n}$$\n",
        "$$h(n) = \\frac{1}{n}$$\n",
        "\n",
        "Ahora, calculamos los límites de las funciones $g(n)$ y $h(n)$ cuando $n$ tiende a infinito:\n",
        "\n",
        "$$\n",
        "\\lim_{n \\to \\infty} -\\frac{1}{n} = 0\n",
        "$$\n",
        "\n",
        "$$\n",
        "\\lim_{n \\to \\infty} \\frac{1}{n} = 0\n",
        "$$\n",
        "\n",
        "Ambos límites son iguales a $0$, por lo que, según el Teorema del Sandwich, también se cumple que:\n",
        "\n",
        "$$\n",
        "\\lim_{n \\to \\infty} \\frac{\\sin(n)}{n} = 0\n",
        "$$\n",
        "\n",
        "**Conclusión del Paso 2**\n",
        "\n",
        "Hemos demostrado, utilizando el Teorema del Sandwich, que la función:\n",
        "\n",
        "$$\n",
        "\\frac{\\sin(n)}{n}\n",
        "$$\n",
        "\n",
        "se encuentra atrapada entre dos funciones cuyo límite es $0$, por lo que su límite también debe ser $0$.\n",
        "\n",
        "Esto confirma que:\n",
        "\n",
        "$$\n",
        "\\lim_{n \\to \\infty} \\frac{\\sin(n)}{n} = 0\n",
        "$$\n"
      ],
      "metadata": {
        "id": "PaXHmJgi6DTp"
      }
    },
    {
      "cell_type": "code",
      "source": [
        "import numpy as np\n",
        "import matplotlib.pyplot as plt\n",
        "\n",
        "# Generamos valores grandes de n\n",
        "n_values = np.arange(1, 1000, 1)\n",
        "sin_n_over_n = np.sin(n_values) / n_values  # Calculamos sin(n)/n\n",
        "\n",
        "# Graficamos\n",
        "plt.plot(n_values, sin_n_over_n, label=r'$\\sin(n)/n$')\n",
        "plt.axhline(0, color='r', linestyle='--', label='Límite esperado: 0')\n",
        "plt.xlabel(\"n\")\n",
        "plt.ylabel(r\"$\\sin(n)/n$\")\n",
        "plt.legend()\n",
        "plt.title(\"Comportamiento de $\\sin(n)/n$ cuando $n \\to \\infty$\")\n",
        "plt.show()"
      ],
      "metadata": {
        "colab": {
          "base_uri": "https://localhost:8080/",
          "height": 474
        },
        "id": "JFEaN7kYH7v9",
        "outputId": "de3bc3d3-ea28-430a-f967-073a7e408b51"
      },
      "execution_count": null,
      "outputs": [
        {
          "output_type": "display_data",
          "data": {
            "text/plain": [
              "<Figure size 640x480 with 1 Axes>"
            ],
            "image/png": "[encoded data removed]"
          },
          "metadata": {}
        }
      ]
    },
    {
      "cell_type": "markdown",
      "source": [
        "###Punto 4:\n",
        "ᯓ★ Cálculo de los primeros valores de $a_n$\n",
        "Dada la sucesión:\n",
        "\n",
        "$$\n",
        "a_n = \\left( 1 + \\frac{1}{n} \\right)^n\n",
        "$$\n",
        "\n",
        "<font color=\"ADFF2F\">**a)** </font>\n",
        "\n",
        "Calculamos los primeros cinco términos:\n",
        "\n",
        "Para $ n = 1 $:\n",
        "  $$\n",
        "  a_1 = \\left(1 + \\frac{1}{1}\\right)^1 = 2^1 = 2.0000\n",
        "  $$\n",
        "    \n",
        "Para $ n = 2 $:\n",
        "  $$\n",
        "  a_2 = \\left(1 + \\frac{1}{2}\\right)^2 = \\left(\\frac{3}{2}\\right)^2 = 2.2500\n",
        "  $$\n",
        "    \n",
        "Para $ n = 3 $:\n",
        "  $$\n",
        "  a_3 = \\left(1 + \\frac{1}{3}\\right)^3 = \\left(\\frac{4}{3}\\right)^3 \\approx 2.3704\n",
        "  $$\n",
        "    \n",
        "Para $ n = 4 $:\n",
        "  $$\n",
        "  a_4 = \\left(1 + \\frac{1}{4}\\right)^4 = \\left(\\frac{5}{4}\\right)^4 \\approx 2.4414\n",
        "  $$\n",
        "    \n",
        "Para $ n = 5 $:\n",
        "  $$\n",
        "  a_5 = \\left(1 + \\frac{1}{5}\\right)^5 = \\left(\\frac{6}{5}\\right)^5 \\approx 2.4883\n",
        "  $$\n",
        "\n",
        "Se observa que los valores de $ a_n $ aumentan y parecen acercarse al número $ e $ (aproximadamente 2.71828) a medida que $ n $ crece.\n"
      ],
      "metadata": {
        "id": "TLzhhihK6iK2"
      }
    },
    {
      "cell_type": "code",
      "source": [
        "# Código para calcular los primeros cinco valores de la sucesión a_n\n",
        "for n in range(1, 6):\n",
        "    a_n = (1 + 1/n) ** n  # Fórmula de la sucesión\n",
        "    print(f\"a_{n} = {a_n:.4f}\")  # Imprime el valor con 4 decimales\n"
      ],
      "metadata": {
        "id": "UUnSUD7X7n8m"
      },
      "execution_count": null,
      "outputs": []
    },
    {
      "cell_type": "markdown",
      "source": [
        "<font color=\"ADFF2F\">**b)** </font>\n",
        "\n",
        "Cálculo de la sucesión $a_n$ hasta $n=200$\n",
        "\n",
        "Definición de la sucesión\n",
        "La sucesión dada es:\n",
        "\n",
        "$$\n",
        "a_n = \\left( 1 + \\frac{1}{n} \\right)^n\n",
        "$$\n",
        "\n",
        "Queremos calcular los valores de $a_n$ para $n = 1, 2, 3, \\dots, 200$.\n",
        "\n",
        "Ejemplos de cálculo manual\n",
        "\n",
        "Para algunos valores de $n$ específicos:\n",
        "\n",
        "Para $ n = 10 $:\n",
        "  $$\n",
        "  a_{10} = \\left( 1 + \\frac{1}{10} \\right)^{10} \\approx 2.5937\n",
        "  $$\n",
        "\n",
        "  Para $ n = 50 $:\n",
        "  $$\n",
        "  a_{50} = \\left( 1 + \\frac{1}{50} \\right)^{50} \\approx 2.6916\n",
        "  $$\n",
        "\n",
        "  \\item \\textbf{Para} \\( n = 100 \\):\n",
        "  $$\n",
        "  a_{100} = \\left( 1 + \\frac{1}{100} \\right)^{100} \\approx 2.7048\n",
        "  $$\n",
        "\n",
        "Para $ n = 200 $:\n",
        "  $$\n",
        "  a_{200} = \\left( 1 + \\frac{1}{200} \\right)^{200} \\approx 2.7115\n",
        "  $$\n",
        "\n",
        "Se observa que los valores de $a_n$ crecen y se acercan al número $e \\approx 2.71828$ conforme $n$ aumenta."
      ],
      "metadata": {
        "id": "CCgFqVXn7aiz"
      }
    },
    {
      "cell_type": "code",
      "source": [
        "# Cálculo de a_n para n desde 1 hasta 200\n",
        "values = [(n, (1 + 1/n) ** n) for n in range(1, 201)]\n",
        "\n",
        "# Imprimir algunos valores clave\n",
        "for n, a_n in values[::20]:  # Muestra cada 20 valores para no saturar la salida\n",
        "    print(f\"a_{n} = {a_n:.4f}\")\n"
      ],
      "metadata": {
        "id": "2wzlSx-A7tkv"
      },
      "execution_count": null,
      "outputs": []
    },
    {
      "cell_type": "markdown",
      "source": [
        "<font color=\"ADFF2F\">**c)** </font>\n",
        "\n",
        "Gráfica de la sucesión $a_n$ y comparación con $e$\n",
        "\n",
        "Definición de la sucesión\n",
        "La sucesión dada es:\n",
        "\n",
        "$$\n",
        "a_n = \\left( 1 + \\frac{1}{n} \\right)^n\n",
        "$$\n",
        "\n",
        "Queremos representar gráficamente los valores de $a_n$ para $n = 1, 2, 3, \\dots, 200$, junto con la línea horizontal $y = e$.\n",
        "\n",
        "Interpretación\n",
        "Al graficar los valores de $a_n$, observamos que conforme $n$ crece, los puntos se acercan a la línea $y = e$, lo que sugiere que:\n",
        "\n",
        "$$\n",
        "\\lim_{n \\to \\infty} a_n = e\n",
        "$$"
      ],
      "metadata": {
        "id": "11LIclFx7y9M"
      }
    },
    {
      "cell_type": "code",
      "source": [
        "import numpy as np\n",
        "import matplotlib.pyplot as plt\n",
        "\n",
        "# Valores de n de 1 a 200\n",
        "n_values = np.arange(1, 201)\n",
        "a_values = (1 + 1/n_values) ** n_values  # Cálculo de a_n\n",
        "\n",
        "# Graficamos los puntos (n, a_n)\n",
        "plt.figure(figsize=(8, 5))\n",
        "plt.scatter(n_values, a_values, color='blue', s=10, label='$a_n$')\n",
        "\n",
        "# Línea horizontal en y = e\n",
        "plt.axhline(y=np.e, color='red', linestyle='dashed', label='$y = e$')\n",
        "\n",
        "# Etiquetas y título\n",
        "plt.xlabel('n')\n",
        "plt.ylabel('$a_n$')\n",
        "plt.title('Gráfica de $a_n$ y la línea $y = e$')\n",
        "\n",
        "# Leyenda y cuadrícula\n",
        "plt.legend()\n",
        "plt.grid(True)\n",
        "\n",
        "# Mostrar gráfica\n",
        "plt.show()\n"
      ],
      "metadata": {
        "id": "qt2YkdMt7-db"
      },
      "execution_count": null,
      "outputs": []
    },
    {
      "cell_type": "markdown",
      "source": [
        "<font color=\"ADFF2F\">**d)** </font>\n",
        "\n",
        "Análisis del límite de la sucesión $a_n$\n",
        "\n",
        "\n",
        "Definición de la sucesión\n",
        "La sucesión dada es:\n",
        "\n",
        "$$\n",
        "a_n = \\left( 1 + \\frac{1}{n} \\right)^n\n",
        "$$\n",
        "\n",
        "Queremos analizar si:\n",
        "\n",
        "$$\n",
        "\\lim_{n \\to \\infty} a_n = e\n",
        "$$\n",
        "\n",
        "Comprobación numérica\n",
        "Hemos calculado valores de $a_n$ para $n$ grandes:\n",
        "\n",
        "  $$ a_{50} \\approx 2.6916 $$\n",
        "  $$ a_{100} \\approx 2.7048 $$\n",
        "  $$ a_{200} \\approx 2.7115 $$\n",
        "\n",
        "Estos valores muestran que $ a_n $ se acerca a $ e \\approx 2.71828 $ conforme $ n $ aumenta.\n",
        "\n",
        "Justificación matemática\n",
        "Sabemos que la función exponencial puede definirse como:\n",
        "\n",
        "$$\n",
        "e = \\lim_{n \\to \\infty} \\left(1 + \\frac{1}{n}\\right)^n\n",
        "$$\n",
        "\n",
        "La sucesión dada es exactamente esta definición, por lo que se cumple que:\n",
        "\n",
        "$$\n",
        "\\lim_{n \\to \\infty} a_n = e\n",
        "$$\n",
        "Conclusión\n",
        "Tanto el análisis numérico como la teoría matemática confirman que:\n",
        "\n",
        "$$\n",
        "\\lim_{n \\to \\infty} a_n = e\n",
        "$$\n",
        "\n",
        "Es razonable afirmar que a medida que $ n $ crece, los valores de $ a_n $ se acercan cada vez más a $ e $."
      ],
      "metadata": {
        "id": "mgOtyI868NBf"
      }
    },
    {
      "cell_type": "markdown",
      "source": [
        "<font color=\"ADFF2F\">**e)** </font>\n",
        "\n",
        "Determinación del menor $n$ para el cual $a_n > 2.7$\n",
        "\n",
        "\n",
        "Definición de la sucesión\n",
        "La sucesión dada es:\n",
        "\n",
        "$$\n",
        "a_n = \\left( 1 + \\frac{1}{n} \\right)^n\n",
        "$$\n",
        "\n",
        "Queremos encontrar el menor valor de $n$ tal que:\n",
        "\n",
        "$$\n",
        "a_n > 2.7\n",
        "$$\n",
        "\n",
        "Cálculo numérico\n",
        "Calculamos algunos valores de $a_n$:\n",
        "\n",
        "  $$ a_{50} \\approx 2.6916 $$ (no cumple)\n",
        "  $$ a_{90} \\approx 2.6986 $$ (no cumple)\n",
        "  $$ a_{100} \\approx 2.7048 $$ (cumple)\n",
        "\n",
        "El menor valor de $n$ que satisface la condición es $ n = 100 $.\n",
        "\n",
        "Conclusión\n",
        "Hemos determinado que el menor valor de $ n $ para el cual $ a_n > 2.7 $ es:\n",
        "\n",
        "$$\n",
        "n = 100\n",
        "$$\n"
      ],
      "metadata": {
        "id": "apjichPS8Zku"
      }
    },
    {
      "cell_type": "code",
      "source": [
        "# Encontrar el menor n para el cual a_n > 2.7\n",
        "n = 1\n",
        "while True:\n",
        "    a_n = (1 + 1/n) ** n\n",
        "    if a_n > 2.7:\n",
        "        print(f\"El menor valor de n para el cual a_n > 2.7 es n = {n}\")\n",
        "        break\n",
        "    n += 1\n"
      ],
      "metadata": {
        "id": "5w2v5k0I8pPd"
      },
      "execution_count": null,
      "outputs": []
    },
    {
      "cell_type": "markdown",
      "source": [
        "<font color=\"ADFF2F\">**f)** </font>\n",
        "\n",
        "Determinación del menor $n$ tal que $|a_n - e| < 0.01$\n",
        "\n",
        "Definición del problema\n",
        "La sucesión dada es:\n",
        "\n",
        "$$\n",
        "a_n = \\left( 1 + \\frac{1}{n} \\right)^n\n",
        "$$\n",
        "\n",
        "Queremos encontrar el menor valor de $ n $ tal que la diferencia absoluta entre $ a_n $ y $ e $ sea menor que 0.01:\n",
        "\n",
        "$$\n",
        "|a_n - e| < 0.01\n",
        "$$\n",
        "\n",
        "Recordemos que $ e $ tiene un valor aproximado de:\n",
        "\n",
        "$$\n",
        "e \\approx 2.71828\n",
        "$$\n",
        "\n",
        "Cálculo numérico\n",
        "Calculamos algunos valores de $ |a_n - e| $:\n",
        "\n",
        "  $$ n = 100 \\Rightarrow |a_{100} - e| \\approx |2.7048 - 2.71828| = 0.01348 $$ (no cumple)\n",
        "  $$  n = 200 \\Rightarrow |a_{200} - e| \\approx |2.7115 - 2.71828| = 0.00678 $$ (cumple)\n",
        "\n",
        "El menor valor de $ n $ que satisface la condición es $ n = 200 $.\n",
        "\n",
        "Conclusión\n",
        "Hemos determinado que el menor valor de $ n $ para el cual $ |a_n - e| < 0.01 $ es:\n",
        "\n",
        "$$\n",
        "n = 200\n",
        "$$\n"
      ],
      "metadata": {
        "id": "1B42zgHJ81Xw"
      }
    },
    {
      "cell_type": "code",
      "source": [
        "# Definir e con precisión de 5 decimales\n",
        "e_value = round(np.e, 5)\n",
        "\n",
        "# Encontrar el menor n para el cual |a_n - e| < 0.01\n",
        "n = 1\n",
        "while True:\n",
        "    a_n = (1 + 1/n) ** n\n",
        "    if abs(a_n - e_value) < 0.01:\n",
        "        print(f\"El menor valor de n para el cual |a_n - e| < 0.01 es n = {n}\")\n",
        "        break\n",
        "    n += 1"
      ],
      "metadata": {
        "id": "ZEyfQE1x81A0"
      },
      "execution_count": null,
      "outputs": []
    },
    {
      "cell_type": "markdown",
      "source": [
        "###Punto 5:\n",
        "ᯓ★ $a_n = n  sin(\\frac{1}{n})$"
      ],
      "metadata": {
        "id": "wKoI69muF4mr"
      }
    },
    {
      "cell_type": "code",
      "source": [
        "import numpy as np\n",
        "import matplotlib.pyplot as plt\n",
        "def a_n(n):\n",
        "  return n * np.sin(1/n)\n",
        "\n",
        "n_values_first_5 = np.array([1, 2, 3, 4, 5])\n",
        "a_values_first_5 = a_n(n_values_first_5)\n",
        "print(\"Valores de a_n para n = 1, 2, 3, 4, 5:\", a_values_first_5)\n",
        "\n",
        "n_values = np.arange(1, 201)\n",
        "a_values = a_n(n_values)\n",
        "\n",
        "plt.figure(figsize=(10, 5))\n",
        "plt.scatter(n_values, a_values, s=10, label=r'$a_n = n \\sin(1/n)$', color='blue')\n",
        "plt.axhline(y=1, color='red', linestyle='dashed', label='y = 1')\n",
        "plt.xlabel('n')\n",
        "plt.ylabel(r'$a_n$')\n",
        "plt.title('Gráfica de $a_n = n \\sin(1/n)$ para $n = 1$ a $200$')\n",
        "plt.legend()\n",
        "plt.grid(True)\n",
        "plt.show()\n",
        "\n",
        "print(\"¿Parece razonable que lim a_n = 1? Sí, la gráfica muestra que a_n se acerca a 1.\")\n",
        "\n",
        "n_min_999 = n_values[np.where(a_values > 0.999)[0][0]]\n",
        "print(\"El menor valor de n para el cual a_n > 0.999 es:\", n_min_999)\n",
        "\n",
        "n_min_close_to_1 = n_values[np.where(np.abs(a_values - 1) < 0.0001)[0][0]]\n",
        "print(\"El primer valor de n para el cual |a_n - 1| < 0.0001 es:\", n_min_close_to_1)"
      ],
      "metadata": {
        "id": "63ceO482Gj1b"
      },
      "execution_count": null,
      "outputs": []
    },
    {
      "cell_type": "markdown",
      "source": [
        "###Punto 8:\n",
        "ᯓ★ Considere la secuencia ${a_n}$ con $a_1 = 10$ y\n",
        "\n",
        "$a_{n+1} = \\frac{1}{3}a_n$\n"
      ],
      "metadata": {
        "id": "nzNnrZKH13qo"
      }
    },
    {
      "cell_type": "code",
      "source": [
        "# Definir la secuencia\n",
        "def secuencia_8(n_terminos=50):\n",
        "    a = [10]\n",
        "    for _ in range(n_terminos - 1):\n",
        "        a.append(a[-1] / 3)\n",
        "    return a\n",
        "\n",
        "# Valores de n\n",
        "n_vals = list(range(50))  # Definir n_vals\n"
      ],
      "metadata": {
        "id": "nAuyolJ91ykc"
      },
      "execution_count": null,
      "outputs": []
    },
    {
      "cell_type": "markdown",
      "source": [
        "###Punto 9:\n",
        "ᯓ★ Considere la secuencia ${a_n}$ con $a_1 = 2$ y\n",
        "\n",
        "$a_{n+1} = 2a_n$"
      ],
      "metadata": {
        "id": "TX7V6UOx21JQ"
      }
    },
    {
      "cell_type": "code",
      "source": [
        "# Secuencia a_n con a_1 = 2 y a_{n+1} = 2 * a_n\n",
        "def secuencia_9(n_terminos=20):\n",
        "    a = [2]\n",
        "    for _ in range(n_terminos - 1):\n",
        "        a.append(2 * a[-1])\n",
        "    return a\n",
        "#Grafica\n",
        "n_vals_9 = np.arange(1, 21)\n",
        "plt.subplot(1, 2, 2)\n",
        "plt.plot(n_vals_9, secuencia_9(), marker='o', linestyle='None', label='$a_n = 2 · a_{n-1}$')\n",
        "plt.xlabel('n')\n",
        "plt.ylabel('$a_n$')\n",
        "plt.title('Grafica')\n",
        "plt.legend()\n",
        "plt.grid()\n",
        "\n",
        "plt.tight_layout()\n",
        "plt.show()"
      ],
      "metadata": {
        "id": "-7BobEqW3MWx"
      },
      "execution_count": null,
      "outputs": []
    },
    {
      "cell_type": "markdown",
      "source": [
        "###Punto 13:\n",
        "ᯓ★ Encuentre las secuencias ${a_n}$ y ${b_n}$ tales que ${a_n}$ y ${b_n}$ ambas divergen, pero {$a_1 + b_n$} convergen."
      ],
      "metadata": {
        "id": "QGiY1fdM49xo"
      }
    },
    {
      "cell_type": "code",
      "source": [
        "#Dos secuencias divergentes cuya suma converge\n",
        "\n",
        "def sequence_13(n_terms=50):\n",
        "    a = [(-1)**n * n for n in range(n_terms)]  # Diverge alternando signo y creciendo\n",
        "    b = [-a_n for a_n in a]  # También diverge de forma opuesta\n",
        "    suma = [a_n + b_n for a_n, b_n in zip(a, b)]  # Converge a 0\n",
        "    return a, b, suma\n",
        "\n",
        "# Mostrar las primeras 10 sumas del punto (13)\n",
        "\n",
        "a_13, b_13, sum_13 = sequence_13(10)\n",
        "print('Primeros 10 términos de a_n:', a_13)\n",
        "print('Primeros 10 términos de b_n:', b_13)\n",
        "print('Primeros 10 términos de a_n + b_n:', sum_13)"
      ],
      "metadata": {
        "id": "yrVi0egU3bKE"
      },
      "execution_count": null,
      "outputs": []
    },
    {
      "cell_type": "markdown",
      "source": [
        "##***Problemas 1.3***\n",
        "\n",
        "###Punto 1\n",
        "ᯓ★Encuntra la suma de cada una de las series infinitas las cuales tienn un suma.\n",
        "\n"
      ],
      "metadata": {
        "id": "qJLSsJENfHTJ"
      }
    },
    {
      "cell_type": "code",
      "source": [
        "def geometric_series(a, r, start=1):\n",
        "    if abs(r) >= 1:\n",
        "        return \"Diverge\"\n",
        "    return a / (1 - r)\n",
        "\n",
        "# Cálculo de las sumas para cada serie\n",
        "series_sums = {\n",
        "    \"(a)\": geometric_series(1, 1/3),\n",
        "    \"(b)\": geometric_series(4, 0.21),\n",
        "    \"(c)\": geometric_series(2/5, 1/5),\n",
        "    \"(d)\": geometric_series(2, 1/7, start=0),\n",
        "    \"(e)\": geometric_series(7 * (1/3), 2/5),\n",
        "    \"(f)\": geometric_series((2/3)**3, 2/3),\n",
        "    \"(g)\": \"Diverge\",  # r = 3/2 > 1\n",
        "    \"(h)\": geometric_series(1, 0.99999),\n",
        "    \"(i)\": \"Diverge\",  # r = 1.00001 > 1\n",
        "    \"(j)\": geometric_series(5 * (3/7)**30, 3/7),\n",
        "    \"(k)\": geometric_series((91/89)**100, 91/89),\n",
        "    \"(l)\": geometric_series(1, np.pi/4),\n",
        "    \"(m)\": \"Diverge\",  # sin(nπ) alterna entre 0 y no converge\n",
        "    \"(n)\": \"Diverge\"  # cos(nπ) alterna entre -1 y 1, no converge\n",
        "}\n",
        "\n",
        "# Imprimir los resultados\n",
        "for key, value in series_sums.items():\n",
        "    print(f\"Serie {key}: {value}\")"
      ],
      "metadata": {
        "id": "MeiEYXvmHUIE"
      },
      "execution_count": null,
      "outputs": []
    },
    {
      "cell_type": "markdown",
      "source": [
        "###Punto 2\n",
        "ᯓ★ Serie infinita con factoriales\n",
        "\n",
        "$S_n = 1 + 1 + \\frac{1}{2} + \\frac{1}{6} + ... + \\frac{1}{n!} =\n",
        "\\sum_{j=0}^{∞}\\frac{1}{j!}$\n",
        "\n",
        "\n",
        "<font color=\"ADFF2F\">**a y b)** </font>\n",
        "\n",
        "\n"
      ],
      "metadata": {
        "id": "ifxRC6RzhGr-"
      }
    },
    {
      "cell_type": "code",
      "source": [
        "import math\n",
        "import numpy as np\n",
        "import matplotlib.pyplot as plt\n",
        "\n",
        "def suma_factorial(n):\n",
        "    return sum(1 / math.factorial(i) for i in range(n + 1))  # Incluimos el término n\n",
        "\n",
        "# Valores de n\n",
        "n_vals = np.arange(0, 15)  # Vamos hasta 15 para mostrar la convergencia\n",
        "suma_vals = [suma_factorial(n) for n in n_vals]  # Calculamos la suma para cada n\n",
        "\n",
        "# Graficamos la serie\n",
        "plt.figure(figsize=(8, 5))\n",
        "plt.plot(n_vals, suma_vals, marker='o', linestyle='none', label=\"Suma Factorial\")\n",
        "plt.axhline(y=3, color='r', linestyle='--', label=\"y = 3\")  # Línea horizontal en y=3\n",
        "plt.axhline(y=math.e, color='g', linestyle='-.', label=\"y = e\")  # Línea en y=e\n",
        "plt.xlabel('n')\n",
        "plt.ylabel('$S_n$')\n",
        "plt.title('Aproximación de $e$ con suma de factoriales')\n",
        "plt.legend()\n",
        "plt.grid()\n",
        "\n",
        "# Mostramos la gráfica\n",
        "plt.show()\n"
      ],
      "metadata": {
        "id": "t_pdyJ5VRGRb",
        "outputId": "fbab96d5-d848-44b4-fd2b-fd68812a42b3",
        "colab": {
          "base_uri": "https://localhost:8080/",
          "height": 490
        }
      },
      "execution_count": 2,
      "outputs": [
        {
          "output_type": "display_data",
          "data": {
            "text/plain": [
              "<Figure size 800x500 with 1 Axes>"
            ],
            "image/png": "[encoded data removed]"
          },
          "metadata": {}
        }
      ]
    },
    {
      "cell_type": "markdown",
      "source": [
        "<font color=\"ADFF2F\">**c)** </font>\n",
        "\n",
        "la suma de la serie es el número $e$, que es aproximadamente\n",
        "\n",
        "$e = 2.718281828...$\n",
        "\n",
        "Para estimar el valor, podemos ir sumando términos hasta que se estabiliza cerca de 2.718.\n"
      ],
      "metadata": {
        "id": "diyaY7gySCL9"
      }
    },
    {
      "cell_type": "code",
      "source": [
        "import math\n",
        "\n",
        "def suma_factorial(n):\n",
        "    suma = sum(1 / math.factorial(i) for i in range(n))\n",
        "    return suma\n",
        "\n",
        "# Vamos calculando la suma hasta que veamos que se acerca a e\n",
        "for n in range(1, 10):\n",
        "    suma_parcial = suma_factorial(n)\n",
        "    print(f\"Con {n} términos, la suma es aproximadamente: {suma_parcial}\")\n",
        "\n",
        "print(f\"Valor real de e: {math.e}\")\n",
        "\n",
        "#Este código calcula la suma de la serie usando los primeros n términos y la compara con el valor real de e"
      ],
      "metadata": {
        "colab": {
          "base_uri": "https://localhost:8080/"
        },
        "id": "U_yw6qGpHvcQ",
        "outputId": "8ae96ac9-0cfd-4546-8c20-810d3813aad7"
      },
      "execution_count": null,
      "outputs": [
        {
          "output_type": "stream",
          "name": "stdout",
          "text": [
            "Con 1 términos, la suma es aproximadamente: 1.0\n",
            "Con 2 términos, la suma es aproximadamente: 2.0\n",
            "Con 3 términos, la suma es aproximadamente: 2.5\n",
            "Con 4 términos, la suma es aproximadamente: 2.6666666666666665\n",
            "Con 5 términos, la suma es aproximadamente: 2.708333333333333\n",
            "Con 6 términos, la suma es aproximadamente: 2.7166666666666663\n",
            "Con 7 términos, la suma es aproximadamente: 2.7180555555555554\n",
            "Con 8 términos, la suma es aproximadamente: 2.7182539682539684\n",
            "Con 9 términos, la suma es aproximadamente: 2.71827876984127\n",
            "Valor real de e: 2.718281828459045\n"
          ]
        }
      ]
    },
    {
      "cell_type": "markdown",
      "source": [
        "\n",
        "<font color=\"ADFF2F\">**d)** </font>\n",
        "\n",
        "\n"
      ],
      "metadata": {
        "id": "DRXH-e9NJxX_"
      }
    },
    {
      "cell_type": "code",
      "source": [
        "# Calcular cuántos términos de la serie son necesarios para que la suma esté dentro de 0.000001 del valor de e\n",
        "\n",
        "import math\n",
        "\n",
        "def suma_factorial(n):\n",
        "    return sum(1 / math.factorial(i) for i in range(n))\n",
        "\n",
        "# Determinar cuántos términos se necesitan para que la suma esté dentro de 0.000001 de e\n",
        "precision = 0.000001\n",
        "n = 1\n",
        "suma_actual = suma_factorial(n)\n",
        "\n",
        "while abs(suma_actual - math.e) > precision:\n",
        "    print(f\"Con {n} términos, la suma es aproximadamente: {suma_actual}\")\n",
        "    n += 1\n",
        "    suma_actual = suma_factorial(n)\n",
        "\n",
        "print(f\"Se necesitan {n} términos para que la suma esté dentro de 0.000001 de e.\")"
      ],
      "metadata": {
        "colab": {
          "base_uri": "https://localhost:8080/"
        },
        "id": "jGwiGBcpKHrG",
        "outputId": "0e2ea308-2290-481e-b86d-ca1cab05d9c1"
      },
      "execution_count": null,
      "outputs": [
        {
          "output_type": "stream",
          "name": "stdout",
          "text": [
            "Con 1 términos, la suma es aproximadamente: 1.0\n",
            "Con 2 términos, la suma es aproximadamente: 2.0\n",
            "Con 3 términos, la suma es aproximadamente: 2.5\n",
            "Con 4 términos, la suma es aproximadamente: 2.6666666666666665\n",
            "Con 5 términos, la suma es aproximadamente: 2.708333333333333\n",
            "Con 6 términos, la suma es aproximadamente: 2.7166666666666663\n",
            "Con 7 términos, la suma es aproximadamente: 2.7180555555555554\n",
            "Con 8 términos, la suma es aproximadamente: 2.7182539682539684\n",
            "Con 9 términos, la suma es aproximadamente: 2.71827876984127\n",
            "Se necesitan 10 términos para que la suma esté dentro de 0.000001 de e.\n"
          ]
        }
      ]
    },
    {
      "cell_type": "markdown",
      "source": [
        "###Punto 7\n",
        "ᯓ★ Distancia total recorrida por una pelota que rebota\n",
        "\n",
        "Dejamos caer una pelota desde 10 metros de altura. Cada vez que toca el suelo, rebota alcanzando el 75% de la altura anterior.\n",
        "\n",
        "\n",
        "Cada vez que la pelota sube, también vuelve a bajar esa misma altura. Entonces, la distancia total recorrida es la suma de:\n",
        "\n",
        "\n",
        "\n",
        "*   La caída inicial de 10 metros.\n",
        "*   La suma de todas las subidas y bajadas posteriores.\n",
        "\n",
        "$10 \\cdot $$\\sum_{n=1}^{∞}({0,75)^n}$\n",
        "\n",
        "**¡los rebotes deben contarse dos veces (subida y bajada)!**\n",
        "\n",
        "$10 + 2 $$\\sum_{n=1}^{0}{10\\cdot (0.75)^n}$\n",
        "\n",
        "$= \\frac{0.75}{1-0.75} = \\frac{0.75}{0.25} = 3 $\n",
        "\n",
        "Distancia total: $10 + (2 \\cdot 10 \\cdot 3) = 70 metros $\n",
        "\n"
      ],
      "metadata": {
        "id": "gLtMeZS2Idhp"
      }
    },
    {
      "cell_type": "markdown",
      "source": [
        "###Punto 11\n",
        "\n",
        "ᯓ★ Cuantos términos de las series armonicas se necesitan para obtener suma parcial larga"
      ],
      "metadata": {
        "id": "iFQMV_AmHee6"
      }
    },
    {
      "cell_type": "code",
      "source": [
        "def suma_serie_armonica(n):\n",
        "    return sum(1 / i for i in range(1, n + 1))\n",
        "\n",
        "# Encontrar cuántos términos se necesitan para que la suma sea mayor que 5\n",
        "n = 1\n",
        "while suma_serie_armonica(n) <= 5:\n",
        "    print(f\"Con {n} términos, la suma es aproximadamente: {suma_serie_armonica(n)}\")\n",
        "    n += 1\n",
        "\n",
        "print(f\"Se necesitan {n} términos para que la suma sea mayor que 5.\")\n",
        "\n"
      ],
      "metadata": {
        "colab": {
          "base_uri": "https://localhost:8080/"
        },
        "id": "cl3vljPHZwYM",
        "outputId": "45c75375-d3cd-4af3-e34e-9165ccca7d4e"
      },
      "execution_count": null,
      "outputs": [
        {
          "output_type": "stream",
          "name": "stdout",
          "text": [
            "Con 1 términos, la suma es aproximadamente: 1.0\n",
            "Con 2 términos, la suma es aproximadamente: 1.5\n",
            "Con 3 términos, la suma es aproximadamente: 1.8333333333333333\n",
            "Con 4 términos, la suma es aproximadamente: 2.083333333333333\n",
            "Con 5 términos, la suma es aproximadamente: 2.283333333333333\n",
            "Con 6 términos, la suma es aproximadamente: 2.4499999999999997\n",
            "Con 7 términos, la suma es aproximadamente: 2.5928571428571425\n",
            "Con 8 términos, la suma es aproximadamente: 2.7178571428571425\n",
            "Con 9 términos, la suma es aproximadamente: 2.8289682539682537\n",
            "Con 10 términos, la suma es aproximadamente: 2.9289682539682538\n",
            "Con 11 términos, la suma es aproximadamente: 3.0198773448773446\n",
            "Con 12 términos, la suma es aproximadamente: 3.103210678210678\n",
            "Con 13 términos, la suma es aproximadamente: 3.180133755133755\n",
            "Con 14 términos, la suma es aproximadamente: 3.251562326562327\n",
            "Con 15 términos, la suma es aproximadamente: 3.3182289932289937\n",
            "Con 16 términos, la suma es aproximadamente: 3.3807289932289937\n",
            "Con 17 términos, la suma es aproximadamente: 3.439552522640758\n",
            "Con 18 términos, la suma es aproximadamente: 3.4951080781963135\n",
            "Con 19 términos, la suma es aproximadamente: 3.547739657143682\n",
            "Con 20 términos, la suma es aproximadamente: 3.597739657143682\n",
            "Con 21 términos, la suma es aproximadamente: 3.6453587047627294\n",
            "Con 22 términos, la suma es aproximadamente: 3.690813250217275\n",
            "Con 23 términos, la suma es aproximadamente: 3.73429151108684\n",
            "Con 24 términos, la suma es aproximadamente: 3.7759581777535067\n",
            "Con 25 términos, la suma es aproximadamente: 3.8159581777535068\n",
            "Con 26 términos, la suma es aproximadamente: 3.854419716215045\n",
            "Con 27 términos, la suma es aproximadamente: 3.8914567532520823\n",
            "Con 28 términos, la suma es aproximadamente: 3.927171038966368\n",
            "Con 29 términos, la suma es aproximadamente: 3.9616537975870574\n",
            "Con 30 términos, la suma es aproximadamente: 3.9949871309203906\n",
            "Con 31 términos, la suma es aproximadamente: 4.02724519543652\n",
            "Con 32 términos, la suma es aproximadamente: 4.05849519543652\n",
            "Con 33 términos, la suma es aproximadamente: 4.08879822573955\n",
            "Con 34 términos, la suma es aproximadamente: 4.118209990445433\n",
            "Con 35 términos, la suma es aproximadamente: 4.146781419016861\n",
            "Con 36 términos, la suma es aproximadamente: 4.174559196794639\n",
            "Con 37 términos, la suma es aproximadamente: 4.201586223821666\n",
            "Con 38 términos, la suma es aproximadamente: 4.22790201329535\n",
            "Con 39 términos, la suma es aproximadamente: 4.2535430389363755\n",
            "Con 40 términos, la suma es aproximadamente: 4.278543038936376\n",
            "Con 41 términos, la suma es aproximadamente: 4.302933282838815\n",
            "Con 42 términos, la suma es aproximadamente: 4.326742806648339\n",
            "Con 43 términos, la suma es aproximadamente: 4.349998620601827\n",
            "Con 44 términos, la suma es aproximadamente: 4.3727258933290996\n",
            "Con 45 términos, la suma es aproximadamente: 4.394948115551322\n",
            "Con 46 términos, la suma es aproximadamente: 4.416687245986104\n",
            "Con 47 términos, la suma es aproximadamente: 4.4379638417307845\n",
            "Con 48 términos, la suma es aproximadamente: 4.4587971750641175\n",
            "Con 49 términos, la suma es aproximadamente: 4.4792053383294235\n",
            "Con 50 términos, la suma es aproximadamente: 4.499205338329423\n",
            "Con 51 términos, la suma es aproximadamente: 4.518813181466678\n",
            "Con 52 términos, la suma es aproximadamente: 4.538043950697447\n",
            "Con 53 términos, la suma es aproximadamente: 4.556911875225749\n",
            "Con 54 términos, la suma es aproximadamente: 4.575430393744267\n",
            "Con 55 términos, la suma es aproximadamente: 4.593612211926086\n",
            "Con 56 términos, la suma es aproximadamente: 4.611469354783229\n",
            "Con 57 términos, la suma es aproximadamente: 4.6290132144323515\n",
            "Con 58 términos, la suma es aproximadamente: 4.646254593742697\n",
            "Con 59 términos, la suma es aproximadamente: 4.6632037462850695\n",
            "Con 60 términos, la suma es aproximadamente: 4.679870412951736\n",
            "Con 61 términos, la suma es aproximadamente: 4.696263855574687\n",
            "Con 62 términos, la suma es aproximadamente: 4.712392887832752\n",
            "Con 63 términos, la suma es aproximadamente: 4.7282659037057675\n",
            "Con 64 términos, la suma es aproximadamente: 4.7438909037057675\n",
            "Con 65 términos, la suma es aproximadamente: 4.759275519090383\n",
            "Con 66 términos, la suma es aproximadamente: 4.774427034241898\n",
            "Con 67 términos, la suma es aproximadamente: 4.789352407376227\n",
            "Con 68 términos, la suma es aproximadamente: 4.804058289729168\n",
            "Con 69 términos, la suma es aproximadamente: 4.818551043352357\n",
            "Con 70 términos, la suma es aproximadamente: 4.832836757638071\n",
            "Con 71 términos, la suma es aproximadamente: 4.846921264680325\n",
            "Con 72 términos, la suma es aproximadamente: 4.860810153569214\n",
            "Con 73 términos, la suma es aproximadamente: 4.8745087837062\n",
            "Con 74 términos, la suma es aproximadamente: 4.888022297219713\n",
            "Con 75 términos, la suma es aproximadamente: 4.901355630553047\n",
            "Con 76 términos, la suma es aproximadamente: 4.914513525289889\n",
            "Con 77 términos, la suma es aproximadamente: 4.927500538276902\n",
            "Con 78 términos, la suma es aproximadamente: 4.940321051097415\n",
            "Con 79 términos, la suma es aproximadamente: 4.9529792789455165\n",
            "Con 80 términos, la suma es aproximadamente: 4.965479278945517\n",
            "Con 81 términos, la suma es aproximadamente: 4.977824957957862\n",
            "Con 82 términos, la suma es aproximadamente: 4.9900200799090815\n",
            "Se necesitan 83 términos para que la suma sea mayor que 5.\n"
          ]
        }
      ]
    },
    {
      "cell_type": "code",
      "source": [
        "def suma_serie_armonica(n):\n",
        "    return sum(1 / i for i in range(1, n + 1))\n",
        "\n",
        "# Encontrar cuántos términos se necesitan para que la suma sea mayor que 10\n",
        "n = 1\n",
        "while suma_serie_armonica(n) <= 10:\n",
        "    print(f\"Con {n} términos, la suma es aproximadamente: {suma_serie_armonica(n)}\")\n",
        "    n += 1\n",
        "\n",
        "print(f\"Se necesitan {n} términos para que la suma sea mayor que 10.\")"
      ],
      "metadata": {
        "id": "Nl6-XkckadLl"
      },
      "execution_count": null,
      "outputs": []
    }
  ]
}