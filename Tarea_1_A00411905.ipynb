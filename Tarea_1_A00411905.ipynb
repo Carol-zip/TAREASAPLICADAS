{
  "nbformat": 4,
  "nbformat_minor": 0,
  "metadata": {
    "colab": {
      "provenance": [],
      "authorship_tag": "ABX9TyPLBgSEe1LxH8+Cz2DldiB0",
      "include_colab_link": true
    },
    "kernelspec": {
      "name": "python3",
      "display_name": "Python 3"
    },
    "language_info": {
      "name": "python"
    }
  },
  "cells": [
    {
      "cell_type": "markdown",
      "metadata": {
        "id": "view-in-github",
        "colab_type": "text"
      },
      "source": [
        "<a href=\"https://colab.research.google.com/github/Carol-zip/TAREASAPLICADAS/blob/main/Tarea_1_A00411905.ipynb\" target=\"_parent\"><img src=\"https://colab.research.google.com/assets/colab-badge.svg\" alt=\"Open In Colab\"/></a>"
      ]
    },
    {
      "cell_type": "code",
      "source": [
        "##Cuaderno"
      ],
      "metadata": {
        "id": "FFF4_FhR8PtV"
      },
      "execution_count": null,
      "outputs": []
    },
    {
      "cell_type": "code",
      "source": [],
      "metadata": {
        "id": "BqAivj7V-gro"
      },
      "execution_count": null,
      "outputs": []
    },
    {
      "cell_type": "markdown",
      "source": [
        "#<font color=\"Blue\"> Cuaderno Colab </font>\n",
        "###MuñozCarol_A00411905\n",
        "\n",
        "1. Tengo 17 años, estudiante de segundo semestre de biologia, Naci en Cali en la clinica de La señora de los remedios, graduada del Colegio Americano de Cali. Me gusta dibujar y ahora estoy intentado tocar la bateria.\n",
        "\n",
        "2.\n",
        "\n",
        "3.\n",
        "\n",
        "*Wheres my mind* - *Pixies*\n",
        "\n",
        "*Canción 2* - *Pixies*\n",
        "\n",
        "*Canción 3* - *Pixies*\n",
        "\n",
        "*Wheres my mind* - *Pixies*\n",
        "\n",
        "*Wheres my mind* - *Pixies*\n"
      ],
      "metadata": {
        "id": "BpZ0Qh1d-g9U"
      }
    },
    {
      "cell_type": "code",
      "execution_count": null,
      "metadata": {
        "id": "g-6kzyHK8JVr"
      },
      "outputs": [],
      "source": []
    }
  ]
}